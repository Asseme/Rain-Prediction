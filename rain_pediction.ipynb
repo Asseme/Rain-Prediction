{
  "nbformat": 4,
  "nbformat_minor": 0,
  "metadata": {
    "orig_nbformat": 2,
    "colab": {
      "name": "rain_pediction.ipynb",
      "provenance": []
    },
    "kernelspec": {
      "name": "python3",
      "display_name": "Python 3"
    }
  },
  "cells": [
    {
      "cell_type": "code",
      "metadata": {
        "id": "WJGGGY8uhNrv"
      },
      "source": [
        ""
      ],
      "execution_count": null,
      "outputs": []
    },
    {
      "cell_type": "code",
      "metadata": {
        "colab": {
          "base_uri": "https://localhost:8080/",
          "height": 309
        },
        "id": "Ny2YN2B8hNr0",
        "outputId": "13282b30-ca55-4011-d449-713504c2bb6b"
      },
      "source": [
        "import numpy as np \n",
        "import pandas as pd \n",
        "import seaborn as sns\n",
        "\n",
        "data = pd.read_csv(\"/content/sample_data/weatherAUS.csv\")\n",
        "\n",
        "#Vérifications\n",
        "#print(data.info())\n",
        "data[0:5]"
      ],
      "execution_count": 3,
      "outputs": [
        {
          "output_type": "execute_result",
          "data": {
            "text/html": [
              "<div>\n",
              "<style scoped>\n",
              "    .dataframe tbody tr th:only-of-type {\n",
              "        vertical-align: middle;\n",
              "    }\n",
              "\n",
              "    .dataframe tbody tr th {\n",
              "        vertical-align: top;\n",
              "    }\n",
              "\n",
              "    .dataframe thead th {\n",
              "        text-align: right;\n",
              "    }\n",
              "</style>\n",
              "<table border=\"1\" class=\"dataframe\">\n",
              "  <thead>\n",
              "    <tr style=\"text-align: right;\">\n",
              "      <th></th>\n",
              "      <th>Date</th>\n",
              "      <th>Location</th>\n",
              "      <th>MinTemp</th>\n",
              "      <th>MaxTemp</th>\n",
              "      <th>Rainfall</th>\n",
              "      <th>Evaporation</th>\n",
              "      <th>Sunshine</th>\n",
              "      <th>WindGustDir</th>\n",
              "      <th>WindGustSpeed</th>\n",
              "      <th>WindDir9am</th>\n",
              "      <th>WindDir3pm</th>\n",
              "      <th>WindSpeed9am</th>\n",
              "      <th>WindSpeed3pm</th>\n",
              "      <th>Humidity9am</th>\n",
              "      <th>Humidity3pm</th>\n",
              "      <th>Pressure9am</th>\n",
              "      <th>Pressure3pm</th>\n",
              "      <th>Cloud9am</th>\n",
              "      <th>Cloud3pm</th>\n",
              "      <th>Temp9am</th>\n",
              "      <th>Temp3pm</th>\n",
              "      <th>RainToday</th>\n",
              "      <th>RainTomorrow</th>\n",
              "    </tr>\n",
              "  </thead>\n",
              "  <tbody>\n",
              "    <tr>\n",
              "      <th>0</th>\n",
              "      <td>2008-12-01</td>\n",
              "      <td>Albury</td>\n",
              "      <td>13.4</td>\n",
              "      <td>22.9</td>\n",
              "      <td>0.6</td>\n",
              "      <td>NaN</td>\n",
              "      <td>NaN</td>\n",
              "      <td>W</td>\n",
              "      <td>44.0</td>\n",
              "      <td>W</td>\n",
              "      <td>WNW</td>\n",
              "      <td>20.0</td>\n",
              "      <td>24.0</td>\n",
              "      <td>71.0</td>\n",
              "      <td>22.0</td>\n",
              "      <td>1007.7</td>\n",
              "      <td>1007.1</td>\n",
              "      <td>8.0</td>\n",
              "      <td>NaN</td>\n",
              "      <td>16.9</td>\n",
              "      <td>21.8</td>\n",
              "      <td>No</td>\n",
              "      <td>No</td>\n",
              "    </tr>\n",
              "    <tr>\n",
              "      <th>1</th>\n",
              "      <td>2008-12-02</td>\n",
              "      <td>Albury</td>\n",
              "      <td>7.4</td>\n",
              "      <td>25.1</td>\n",
              "      <td>0.0</td>\n",
              "      <td>NaN</td>\n",
              "      <td>NaN</td>\n",
              "      <td>WNW</td>\n",
              "      <td>44.0</td>\n",
              "      <td>NNW</td>\n",
              "      <td>WSW</td>\n",
              "      <td>4.0</td>\n",
              "      <td>22.0</td>\n",
              "      <td>44.0</td>\n",
              "      <td>25.0</td>\n",
              "      <td>1010.6</td>\n",
              "      <td>1007.8</td>\n",
              "      <td>NaN</td>\n",
              "      <td>NaN</td>\n",
              "      <td>17.2</td>\n",
              "      <td>24.3</td>\n",
              "      <td>No</td>\n",
              "      <td>No</td>\n",
              "    </tr>\n",
              "    <tr>\n",
              "      <th>2</th>\n",
              "      <td>2008-12-03</td>\n",
              "      <td>Albury</td>\n",
              "      <td>12.9</td>\n",
              "      <td>25.7</td>\n",
              "      <td>0.0</td>\n",
              "      <td>NaN</td>\n",
              "      <td>NaN</td>\n",
              "      <td>WSW</td>\n",
              "      <td>46.0</td>\n",
              "      <td>W</td>\n",
              "      <td>WSW</td>\n",
              "      <td>19.0</td>\n",
              "      <td>26.0</td>\n",
              "      <td>38.0</td>\n",
              "      <td>30.0</td>\n",
              "      <td>1007.6</td>\n",
              "      <td>1008.7</td>\n",
              "      <td>NaN</td>\n",
              "      <td>2.0</td>\n",
              "      <td>21.0</td>\n",
              "      <td>23.2</td>\n",
              "      <td>No</td>\n",
              "      <td>No</td>\n",
              "    </tr>\n",
              "    <tr>\n",
              "      <th>3</th>\n",
              "      <td>2008-12-04</td>\n",
              "      <td>Albury</td>\n",
              "      <td>9.2</td>\n",
              "      <td>28.0</td>\n",
              "      <td>0.0</td>\n",
              "      <td>NaN</td>\n",
              "      <td>NaN</td>\n",
              "      <td>NE</td>\n",
              "      <td>24.0</td>\n",
              "      <td>SE</td>\n",
              "      <td>E</td>\n",
              "      <td>11.0</td>\n",
              "      <td>9.0</td>\n",
              "      <td>45.0</td>\n",
              "      <td>16.0</td>\n",
              "      <td>1017.6</td>\n",
              "      <td>1012.8</td>\n",
              "      <td>NaN</td>\n",
              "      <td>NaN</td>\n",
              "      <td>18.1</td>\n",
              "      <td>26.5</td>\n",
              "      <td>No</td>\n",
              "      <td>No</td>\n",
              "    </tr>\n",
              "    <tr>\n",
              "      <th>4</th>\n",
              "      <td>2008-12-05</td>\n",
              "      <td>Albury</td>\n",
              "      <td>17.5</td>\n",
              "      <td>32.3</td>\n",
              "      <td>1.0</td>\n",
              "      <td>NaN</td>\n",
              "      <td>NaN</td>\n",
              "      <td>W</td>\n",
              "      <td>41.0</td>\n",
              "      <td>ENE</td>\n",
              "      <td>NW</td>\n",
              "      <td>7.0</td>\n",
              "      <td>20.0</td>\n",
              "      <td>82.0</td>\n",
              "      <td>33.0</td>\n",
              "      <td>1010.8</td>\n",
              "      <td>1006.0</td>\n",
              "      <td>7.0</td>\n",
              "      <td>8.0</td>\n",
              "      <td>17.8</td>\n",
              "      <td>29.7</td>\n",
              "      <td>No</td>\n",
              "      <td>No</td>\n",
              "    </tr>\n",
              "  </tbody>\n",
              "</table>\n",
              "</div>"
            ],
            "text/plain": [
              "         Date Location  MinTemp  ...  Temp3pm  RainToday  RainTomorrow\n",
              "0  2008-12-01   Albury     13.4  ...     21.8         No            No\n",
              "1  2008-12-02   Albury      7.4  ...     24.3         No            No\n",
              "2  2008-12-03   Albury     12.9  ...     23.2         No            No\n",
              "3  2008-12-04   Albury      9.2  ...     26.5         No            No\n",
              "4  2008-12-05   Albury     17.5  ...     29.7         No            No\n",
              "\n",
              "[5 rows x 23 columns]"
            ]
          },
          "metadata": {
            "tags": []
          },
          "execution_count": 3
        }
      ]
    },
    {
      "cell_type": "markdown",
      "metadata": {
        "id": "EyaYlOpxi88v"
      },
      "source": [
        "Nous allons ici nou débarasser des valeur nulles et des colonnes qui nous ne servirons pas dans notre analyse"
      ]
    },
    {
      "cell_type": "code",
      "metadata": {
        "id": "mjDjSGzFjVdj"
      },
      "source": [
        "data = data.drop(columns=['Location','Date','Evaporation','Sunshine','Cloud3pm','Cloud9am'],axis=1)"
      ],
      "execution_count": 4,
      "outputs": []
    },
    {
      "cell_type": "markdown",
      "metadata": {
        "id": "6XOPmOKMj57g"
      },
      "source": [
        "Replacement des valeurs catégorielles par des nombres et suppression des valeurs nulles"
      ]
    },
    {
      "cell_type": "code",
      "metadata": {
        "colab": {
          "base_uri": "https://localhost:8080/"
        },
        "id": "k1sI8aaCkIa8",
        "outputId": "8abbdd78-43ce-476a-be36-71ce0d6ccfcf"
      },
      "source": [
        "data['RainToday'].replace({'No': 0, 'Yes': 1},inplace = True)\n",
        "data['RainTomorrow'].replace({'No': 0, 'Yes': 1},inplace = True)\n",
        "\n",
        "#suppression des valeurs nulles\n",
        "data.dropna(axis=0, how='any', thresh=None, subset=None, inplace=True)\n",
        "print(data.shape)\n",
        "\n",
        "#Numerisons les colonnes catégorielles\n",
        "categorical_columns = ['WindGustDir', 'WindDir3pm', 'WindDir9am']\n",
        "data = pd.get_dummies(data, columns=categorical_columns)\n",
        "print(data.shape)"
      ],
      "execution_count": 5,
      "outputs": [
        {
          "output_type": "stream",
          "text": [
            "(112925, 17)\n",
            "(112925, 62)\n"
          ],
          "name": "stdout"
        }
      ]
    },
    {
      "cell_type": "markdown",
      "metadata": {
        "id": "0ThfNyaYp9o1"
      },
      "source": [
        "#Nettoyage de notre dataset"
      ]
    },
    {
      "cell_type": "code",
      "metadata": {
        "id": "I2OTF2KkqD8E"
      },
      "source": [
        "from sklearn import preprocessing\n",
        "from scipy.stats import zscore\n",
        "\n",
        "numeric_cols = data.select_dtypes(include=[np.number]).columns\n",
        "data[numeric_cols].apply(zscore)\n",
        "\n",
        "#Mise à l'echelle de la data..\n",
        "data = data.astype('float64')\n",
        "scaler = preprocessing.MinMaxScaler()\n",
        "scaler.fit(data)\n",
        "data = pd.DataFrame(scaler.transform(data), index=data.index, columns=data.columns)\n",
        "\n",
        "#Séparation de nos features..\n",
        "X = data.loc[:,data.columns!='RainTomorrow']\n",
        "y = data['RainTomorrow']"
      ],
      "execution_count": 6,
      "outputs": []
    },
    {
      "cell_type": "markdown",
      "metadata": {
        "id": "wWJbubqstEmm"
      },
      "source": [
        "Maintenant selectionnons les meilleures colonnes pour notre KNN et séparons les données pour les entrainer et tester"
      ]
    },
    {
      "cell_type": "code",
      "metadata": {
        "colab": {
          "base_uri": "https://localhost:8080/"
        },
        "id": "u1HweZmRtSYI",
        "outputId": "9b7ff1d7-b91c-4686-e34a-17b5b1206651"
      },
      "source": [
        "from sklearn.feature_selection import SelectKBest, chi2\n",
        "from sklearn.model_selection import train_test_split\n",
        "\n",
        "selector = SelectKBest(chi2, k=4)\n",
        "selector.fit_transform(X, y)\n",
        "print(X.columns[selector.get_support(indices=True)])\n",
        "\n",
        "\n",
        "X = data[X.columns[selector.get_support(indices=True)]]\n",
        "\n",
        "#séparation des données\n",
        "x_train, x_test, y_train, y_test = train_test_split(X, y, test_size=0.15, random_state=1)"
      ],
      "execution_count": 7,
      "outputs": [
        {
          "output_type": "stream",
          "text": [
            "Index(['Rainfall', 'Humidity9am', 'Humidity3pm', 'RainToday'], dtype='object')\n"
          ],
          "name": "stdout"
        }
      ]
    },
    {
      "cell_type": "markdown",
      "metadata": {
        "id": "Rr4_6QUit5es"
      },
      "source": [
        "Distribution des données"
      ]
    },
    {
      "cell_type": "code",
      "metadata": {
        "colab": {
          "base_uri": "https://localhost:8080/",
          "height": 262
        },
        "id": "YrirKGJXt-lo",
        "outputId": "6bc2801f-e552-47d0-d60e-ed917730bff3"
      },
      "source": [
        "import matplotlib.pyplot as plt\n",
        "import matplotlib.style as sty\n",
        "\n",
        "sty.use('ggplot')\n",
        "plt.figure(figsize=(3,3))\n",
        "plt.hist(y,bins=2,rwidth=0.8)\n",
        "plt.xticks([0.25,0.75],['No Rain','Rain'])\n",
        "\n",
        "print(y.value_counts())"
      ],
      "execution_count": 8,
      "outputs": [
        {
          "output_type": "stream",
          "text": [
            "0.0    87906\n",
            "1.0    25019\n",
            "Name: RainTomorrow, dtype: int64\n"
          ],
          "name": "stdout"
        },
        {
          "output_type": "display_data",
          "data": {
            "image/png": "[encoded data removed]",
            "text/plain": [
              "<Figure size 216x216 with 1 Axes>"
            ]
          },
          "metadata": {
            "tags": []
          }
        }
      ]
    },
    {
      "cell_type": "markdown",
      "metadata": {
        "id": "ZqmtUgwbulHS"
      },
      "source": [
        "Essayons avec tous ces valeurs "
      ]
    },
    {
      "cell_type": "code",
      "metadata": {
        "colab": {
          "base_uri": "https://localhost:8080/"
        },
        "id": "--ofpQP2uuIe",
        "outputId": "427146d8-417a-45c8-cef5-66e5e899166a"
      },
      "source": [
        "# KNN\n",
        "from sklearn.neighbors import KNeighborsClassifier\n",
        "knn = KNeighborsClassifier(n_neighbors = 20)\n",
        "knn.fit(x_train,y_train.values.ravel())\n",
        "y_pred_KNN = knn.predict(x_test)\n",
        "print(\" {} nn score: {} \".format(20,knn.score(x_test,y_test)))"
      ],
      "execution_count": 9,
      "outputs": [
        {
          "output_type": "stream",
          "text": [
            " 20 nn score: 0.8316311470570872 \n"
          ],
          "name": "stdout"
        }
      ]
    },
    {
      "cell_type": "markdown",
      "metadata": {
        "id": "4ThnSuh5u3r5"
      },
      "source": [
        "Matrice de confusion"
      ]
    },
    {
      "cell_type": "code",
      "metadata": {
        "colab": {
          "base_uri": "https://localhost:8080/",
          "height": 228
        },
        "id": "nUqd0fLwu6Vh",
        "outputId": "56323d73-aae3-4112-bbea-7e91cfe1aaa7"
      },
      "source": [
        "from sklearn.metrics import confusion_matrix\n",
        "\n",
        "confMatKnn = confusion_matrix(y_test,y_pred_KNN)\n",
        "\n",
        "f, ax = plt.subplots(figsize = (3,3))\n",
        "sns.heatmap(confMatKnn,annot=True,linecolor=\"red\",fmt=\".0f\",ax=ax)\n",
        "plt.xlabel(\"Predictions\")\n",
        "plt.ylabel(\"Test Values\")\n",
        "plt.show()"
      ],
      "execution_count": 10,
      "outputs": [
        {
          "output_type": "display_data",
          "data": {
            "image/png": "[encoded data removed]",
            "text/plain": [
              "<Figure size 216x216 with 2 Axes>"
            ]
          },
          "metadata": {
            "tags": []
          }
        }
      ]
    },
    {
      "cell_type": "markdown",
      "metadata": {
        "id": "EaVpFVirvMMN"
      },
      "source": [
        "Détermination du meilleur n_neighbors pour le KNN"
      ]
    },
    {
      "cell_type": "code",
      "metadata": {
        "colab": {
          "base_uri": "https://localhost:8080/"
        },
        "id": "BwTA5iR3vXEn",
        "outputId": "81c38ff5-cacc-4fe7-e8bc-a22eb3f48ebb"
      },
      "source": [
        "#Cela peut prendre du temps\n",
        "r = range(15,20)\n",
        "for i in r:\n",
        "   knn = KNeighborsClassifier(n_neighbors = i)\n",
        "   knn.fit(x_train,y_train.values.ravel())\n",
        "   #prediction = knn.predict(x_test)\n",
        "   print(\" {} nn score: {} \".format(i,knn.score(x_test,y_test)))    "
      ],
      "execution_count": 11,
      "outputs": [
        {
          "output_type": "stream",
          "text": [
            " 15 nn score: 0.8299191215538108 \n",
            " 16 nn score: 0.8313359702461774 \n",
            " 17 nn score: 0.8305094751756302 \n",
            " 18 nn score: 0.8313950056083594 \n",
            " 19 nn score: 0.8325757128519984 \n"
          ],
          "name": "stdout"
        }
      ]
    },
    {
      "cell_type": "markdown",
      "metadata": {
        "id": "vFw_hrIsvt6w"
      },
      "source": [
        "Arbre de décision"
      ]
    },
    {
      "cell_type": "code",
      "metadata": {
        "colab": {
          "base_uri": "https://localhost:8080/"
        },
        "id": "TuUZ-k7CvwyD",
        "outputId": "889cc6ed-5836-44c2-e8b6-d73506709332"
      },
      "source": [
        "from sklearn.tree import DecisionTreeClassifier\n",
        "\n",
        "dtClassifier = DecisionTreeClassifier()\n",
        "dtClassifier.fit(x_train,y_train)\n",
        "y_pred_DT = dtClassifier.predict(x_test)\n",
        "print(\"Score de l'arbre de décision: \" , dtClassifier.score(x_test,y_test))"
      ],
      "execution_count": 12,
      "outputs": [
        {
          "output_type": "stream",
          "text": [
            "Score de l'arbre de décision:  0.8005195111872011\n"
          ],
          "name": "stdout"
        }
      ]
    },
    {
      "cell_type": "markdown",
      "metadata": {
        "id": "Tb8qzKvIv2DO"
      },
      "source": [
        "Visualisation de la matrice de confusion de l'abre "
      ]
    },
    {
      "cell_type": "code",
      "metadata": {
        "colab": {
          "base_uri": "https://localhost:8080/",
          "height": 228
        },
        "id": "ZvWBV3mHv9PC",
        "outputId": "208c471b-f896-4edc-a7aa-c607b7fd6e09"
      },
      "source": [
        "confMatDT = confusion_matrix(y_test,y_pred_DT)\n",
        "\n",
        "f, ax = plt.subplots(figsize = (3,3))\n",
        "sns.heatmap(confMatDT,annot=True,linecolor=\"red\",fmt=\".0f\",ax=ax)\n",
        "plt.xlabel(\"Predictions\")\n",
        "plt.ylabel(\"Valeurs de test\")\n",
        "plt.show()"
      ],
      "execution_count": 13,
      "outputs": [
        {
          "output_type": "display_data",
          "data": {
            "image/png": "[encoded data removed]",
            "text/plain": [
              "<Figure size 216x216 with 2 Axes>"
            ]
          },
          "metadata": {
            "tags": []
          }
        }
      ]
    },
    {
      "cell_type": "markdown",
      "metadata": {
        "id": "o9oE-_f8wBAk"
      },
      "source": [
        "Le Random Forest"
      ]
    },
    {
      "cell_type": "code",
      "metadata": {
        "colab": {
          "base_uri": "https://localhost:8080/"
        },
        "id": "GPO_fOMqwDDi",
        "outputId": "6487c34a-c088-4c95-c98a-3231eb647f63"
      },
      "source": [
        "from sklearn.ensemble import RandomForestClassifier\n",
        "\n",
        "rfClassifier = RandomForestClassifier(n_estimators = 20,random_state = 1)\n",
        "rfClassifier.fit(x_train,y_train.values.ravel())\n",
        "y_pred_RF = rfClassifier.predict(x_test)\n",
        "print(\"Score du classifier Random Forest: \" , dtClassifier.score(x_test,y_test))"
      ],
      "execution_count": 14,
      "outputs": [
        {
          "output_type": "stream",
          "text": [
            "Score du classifier Random Forest:  0.8005195111872011\n"
          ],
          "name": "stdout"
        }
      ]
    },
    {
      "cell_type": "markdown",
      "metadata": {
        "id": "vmVxRDyZwoNG"
      },
      "source": [
        "Visualisation de la matrice de confusion pour le Random Forest"
      ]
    },
    {
      "cell_type": "code",
      "metadata": {
        "colab": {
          "base_uri": "https://localhost:8080/",
          "height": 230
        },
        "id": "uZI1SqCrwvNh",
        "outputId": "a796dd12-1fc0-4749-90db-1af7555d7ba1"
      },
      "source": [
        "confMatRF = confusion_matrix(y_test,y_pred_RF)\n",
        "\n",
        "f, ax = plt.subplots(figsize = (3,3))\n",
        "sns.heatmap(confMatRF,annot=True,fmt=\".0f\",ax=ax)\n",
        "plt.xlabel(\"Predictions\")\n",
        "plt.ylabel(\"Test Values\")\n",
        "plt.show()"
      ],
      "execution_count": 15,
      "outputs": [
        {
          "output_type": "display_data",
          "data": {
            "image/png": "[encoded data removed]",
            "text/plain": [
              "<Figure size 216x216 with 2 Axes>"
            ]
          },
          "metadata": {
            "tags": []
          }
        }
      ]
    }
  ]
}